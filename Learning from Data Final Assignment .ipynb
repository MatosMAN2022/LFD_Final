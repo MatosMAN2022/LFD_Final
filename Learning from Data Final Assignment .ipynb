{
 "cells": [
  {
   "cell_type": "markdown",
   "id": "1151274d",
   "metadata": {},
   "source": [
    "# STOCK MARKET ANALYSIS AND FORECASTING  💰💰💰\n",
    "\n",
    "\n"
   ]
  },
  {
   "cell_type": "markdown",
   "id": "eec97298",
   "metadata": {},
   "source": [
    "# 1. | Installing and Importing Libraries 📚\n"
   ]
  },
  {
   "cell_type": "code",
   "execution_count": 1,
   "id": "98032051",
   "metadata": {},
   "outputs": [],
   "source": [
    "import os \n",
    "import numpy as np \n",
    "import pandas as pd \n",
    "import matplotlib.pyplot as plt \n",
    "import seaborn as sns \n",
    "from scipy import stats\n",
    "import statistics\n",
    "import warnings\n",
    "import math\n",
    "from scipy import stats\n",
    "import matplotlib.dates as mdates\n",
    "from plotly import tools\n",
    "import plotly.tools as tls\n",
    "import plotly.figure_factory as ff\n",
    "import plotly.graph_objs as go\n",
    "from plotly.offline import init_notebook_mode, plot, iplot\n",
    "import statsmodels.api as sm\n",
    "from statsmodels.tsa.seasonal import seasonal_decompose\n",
    "from statsmodels.tsa.stattools import adfuller\n",
    "from sklearn.metrics import mean_squared_error\n",
    "from statsmodels.tsa.arima.model import ARIMA\n",
    "from statsmodels.graphics.tsaplots import plot_acf, plot_pacf\n",
    "warnings.filterwarnings('ignore')"
   ]
  },
  {
   "cell_type": "code",
   "execution_count": 2,
   "id": "b1fabc24",
   "metadata": {},
   "outputs": [],
   "source": [
    "data = pd.read_csv(r\"C:\\Users\\netsh\\Downloads\\QQQ_rands.csv\")\n",
    "\n",
    "values = pd.read_csv(r\"C:\\Users\\netsh\\Downloads\\VOO_rands.csv\")\n",
    "\n",
    "valdats = pd.read_csv(r\"C:\\Users\\netsh\\Downloads\\VT_rands.csv\")"
   ]
  },
  {
   "cell_type": "markdown",
   "id": "5d45ab66",
   "metadata": {},
   "source": [
    "# 2.| Reading Dataset 👓"
   ]
  },
  {
   "cell_type": "code",
   "execution_count": 3,
   "id": "f090a34c",
   "metadata": {},
   "outputs": [
    {
     "data": {
      "text/html": [
       "<style type=\"text/css\">\n",
       "#T_b07ef_row0_col0, #T_b07ef_row1_col0, #T_b07ef_row2_col0, #T_b07ef_row3_col0, #T_b07ef_row4_col0 {\n",
       "  font-family: Segoe UI;\n",
       "}\n",
       "#T_b07ef_row0_col1, #T_b07ef_row0_col2, #T_b07ef_row0_col3, #T_b07ef_row0_col4, #T_b07ef_row2_col5 {\n",
       "  background-color: #00441b;\n",
       "  color: #f1f1f1;\n",
       "  font-family: Segoe UI;\n",
       "}\n",
       "#T_b07ef_row0_col5, #T_b07ef_row3_col4, #T_b07ef_row4_col1, #T_b07ef_row4_col2, #T_b07ef_row4_col3 {\n",
       "  background-color: #f7fcf5;\n",
       "  color: #000000;\n",
       "  font-family: Segoe UI;\n",
       "}\n",
       "#T_b07ef_row1_col1 {\n",
       "  background-color: #005723;\n",
       "  color: #f1f1f1;\n",
       "  font-family: Segoe UI;\n",
       "}\n",
       "#T_b07ef_row1_col2 {\n",
       "  background-color: #005221;\n",
       "  color: #f1f1f1;\n",
       "  font-family: Segoe UI;\n",
       "}\n",
       "#T_b07ef_row1_col3 {\n",
       "  background-color: #006328;\n",
       "  color: #f1f1f1;\n",
       "  font-family: Segoe UI;\n",
       "}\n",
       "#T_b07ef_row1_col4 {\n",
       "  background-color: #00471c;\n",
       "  color: #f1f1f1;\n",
       "  font-family: Segoe UI;\n",
       "}\n",
       "#T_b07ef_row1_col5 {\n",
       "  background-color: #58b668;\n",
       "  color: #f1f1f1;\n",
       "  font-family: Segoe UI;\n",
       "}\n",
       "#T_b07ef_row2_col1 {\n",
       "  background-color: #83cb82;\n",
       "  color: #000000;\n",
       "  font-family: Segoe UI;\n",
       "}\n",
       "#T_b07ef_row2_col2 {\n",
       "  background-color: #006529;\n",
       "  color: #f1f1f1;\n",
       "  font-family: Segoe UI;\n",
       "}\n",
       "#T_b07ef_row2_col3 {\n",
       "  background-color: #84cc83;\n",
       "  color: #000000;\n",
       "  font-family: Segoe UI;\n",
       "}\n",
       "#T_b07ef_row2_col4 {\n",
       "  background-color: #005a24;\n",
       "  color: #f1f1f1;\n",
       "  font-family: Segoe UI;\n",
       "}\n",
       "#T_b07ef_row3_col1 {\n",
       "  background-color: #7ac77b;\n",
       "  color: #000000;\n",
       "  font-family: Segoe UI;\n",
       "}\n",
       "#T_b07ef_row3_col2 {\n",
       "  background-color: #4aaf61;\n",
       "  color: #f1f1f1;\n",
       "  font-family: Segoe UI;\n",
       "}\n",
       "#T_b07ef_row3_col3 {\n",
       "  background-color: #63bc6e;\n",
       "  color: #f1f1f1;\n",
       "  font-family: Segoe UI;\n",
       "}\n",
       "#T_b07ef_row3_col5 {\n",
       "  background-color: #3ba458;\n",
       "  color: #f1f1f1;\n",
       "  font-family: Segoe UI;\n",
       "}\n",
       "#T_b07ef_row4_col4 {\n",
       "  background-color: #f2faef;\n",
       "  color: #000000;\n",
       "  font-family: Segoe UI;\n",
       "}\n",
       "#T_b07ef_row4_col5 {\n",
       "  background-color: #62bb6d;\n",
       "  color: #f1f1f1;\n",
       "  font-family: Segoe UI;\n",
       "}\n",
       "</style>\n",
       "<table id=\"T_b07ef\">\n",
       "  <thead>\n",
       "    <tr>\n",
       "      <th id=\"T_b07ef_level0_col0\" class=\"col_heading level0 col0\" >timestamp</th>\n",
       "      <th id=\"T_b07ef_level0_col1\" class=\"col_heading level0 col1\" >open</th>\n",
       "      <th id=\"T_b07ef_level0_col2\" class=\"col_heading level0 col2\" >high</th>\n",
       "      <th id=\"T_b07ef_level0_col3\" class=\"col_heading level0 col3\" >low</th>\n",
       "      <th id=\"T_b07ef_level0_col4\" class=\"col_heading level0 col4\" >close</th>\n",
       "      <th id=\"T_b07ef_level0_col5\" class=\"col_heading level0 col5\" >volume</th>\n",
       "    </tr>\n",
       "  </thead>\n",
       "  <tbody>\n",
       "    <tr>\n",
       "      <td id=\"T_b07ef_row0_col0\" class=\"data row0 col0\" >2023-05-05</td>\n",
       "      <td id=\"T_b07ef_row0_col1\" class=\"data row0 col1\" >322.090000</td>\n",
       "      <td id=\"T_b07ef_row0_col2\" class=\"data row0 col2\" >323.760000</td>\n",
       "      <td id=\"T_b07ef_row0_col3\" class=\"data row0 col3\" >315.115000</td>\n",
       "      <td id=\"T_b07ef_row0_col4\" class=\"data row0 col4\" >322.890000</td>\n",
       "      <td id=\"T_b07ef_row0_col5\" class=\"data row0 col5\" >259445481</td>\n",
       "    </tr>\n",
       "    <tr>\n",
       "      <td id=\"T_b07ef_row1_col0\" class=\"data row1 col0\" >2023-04-28</td>\n",
       "      <td id=\"T_b07ef_row1_col1\" class=\"data row1 col1\" >318.770000</td>\n",
       "      <td id=\"T_b07ef_row1_col2\" class=\"data row1 col2\" >322.650000</td>\n",
       "      <td id=\"T_b07ef_row1_col3\" class=\"data row1 col3\" >309.890000</td>\n",
       "      <td id=\"T_b07ef_row1_col4\" class=\"data row1 col4\" >322.560000</td>\n",
       "      <td id=\"T_b07ef_row1_col5\" class=\"data row1 col5\" >991124919</td>\n",
       "    </tr>\n",
       "    <tr>\n",
       "      <td id=\"T_b07ef_row2_col0\" class=\"data row2 col0\" >2023-03-31</td>\n",
       "      <td id=\"T_b07ef_row2_col1\" class=\"data row2 col1\" >293.260000</td>\n",
       "      <td id=\"T_b07ef_row2_col2\" class=\"data row2 col2\" >321.170000</td>\n",
       "      <td id=\"T_b07ef_row2_col3\" class=\"data row2 col3\" >285.190000</td>\n",
       "      <td id=\"T_b07ef_row2_col4\" class=\"data row2 col4\" >320.930000</td>\n",
       "      <td id=\"T_b07ef_row2_col5\" class=\"data row2 col5\" >1545364607</td>\n",
       "    </tr>\n",
       "    <tr>\n",
       "      <td id=\"T_b07ef_row3_col0\" class=\"data row3 col0\" >2023-02-28</td>\n",
       "      <td id=\"T_b07ef_row3_col1\" class=\"data row3 col1\" >294.410000</td>\n",
       "      <td id=\"T_b07ef_row3_col2\" class=\"data row3 col2\" >313.680000</td>\n",
       "      <td id=\"T_b07ef_row3_col3\" class=\"data row3 col3\" >290.050000</td>\n",
       "      <td id=\"T_b07ef_row3_col4\" class=\"data row3 col4\" >293.560000</td>\n",
       "      <td id=\"T_b07ef_row3_col5\" class=\"data row3 col5\" >1094751646</td>\n",
       "    </tr>\n",
       "    <tr>\n",
       "      <td id=\"T_b07ef_row4_col0\" class=\"data row4 col0\" >2023-01-31</td>\n",
       "      <td id=\"T_b07ef_row4_col1\" class=\"data row4 col1\" >268.650000</td>\n",
       "      <td id=\"T_b07ef_row4_col2\" class=\"data row4 col2\" >298.260000</td>\n",
       "      <td id=\"T_b07ef_row4_col3\" class=\"data row4 col3\" >260.340000</td>\n",
       "      <td id=\"T_b07ef_row4_col4\" class=\"data row4 col4\" >294.620000</td>\n",
       "      <td id=\"T_b07ef_row4_col5\" class=\"data row4 col5\" >961927648</td>\n",
       "    </tr>\n",
       "  </tbody>\n",
       "</table>\n"
      ],
      "text/plain": [
       "<pandas.io.formats.style.Styler at 0x2547e5ea650>"
      ]
     },
     "execution_count": 3,
     "metadata": {},
     "output_type": "execute_result"
    }
   ],
   "source": [
    "data.head().style.background_gradient(cmap='Greens').set_properties(**{'font-family': 'Segoe UI'}).hide_index()\n",
    "\n"
   ]
  },
  {
   "cell_type": "code",
   "execution_count": 4,
   "id": "4f7cffb1",
   "metadata": {},
   "outputs": [
    {
     "data": {
      "text/html": [
       "<div>\n",
       "<style scoped>\n",
       "    .dataframe tbody tr th:only-of-type {\n",
       "        vertical-align: middle;\n",
       "    }\n",
       "\n",
       "    .dataframe tbody tr th {\n",
       "        vertical-align: top;\n",
       "    }\n",
       "\n",
       "    .dataframe thead th {\n",
       "        text-align: right;\n",
       "    }\n",
       "</style>\n",
       "<table border=\"1\" class=\"dataframe\">\n",
       "  <thead>\n",
       "    <tr style=\"text-align: right;\">\n",
       "      <th></th>\n",
       "      <th>timestamp</th>\n",
       "      <th>open</th>\n",
       "      <th>high</th>\n",
       "      <th>low</th>\n",
       "      <th>close</th>\n",
       "      <th>volume</th>\n",
       "    </tr>\n",
       "  </thead>\n",
       "  <tbody>\n",
       "    <tr>\n",
       "      <th>0</th>\n",
       "      <td>2023-05-05</td>\n",
       "      <td>381.730</td>\n",
       "      <td>383.64</td>\n",
       "      <td>370.92</td>\n",
       "      <td>378.97</td>\n",
       "      <td>20454804</td>\n",
       "    </tr>\n",
       "    <tr>\n",
       "      <th>1</th>\n",
       "      <td>2023-04-28</td>\n",
       "      <td>375.600</td>\n",
       "      <td>382.12</td>\n",
       "      <td>370.98</td>\n",
       "      <td>382.05</td>\n",
       "      <td>59219145</td>\n",
       "    </tr>\n",
       "    <tr>\n",
       "      <th>2</th>\n",
       "      <td>2023-03-31</td>\n",
       "      <td>363.340</td>\n",
       "      <td>376.34</td>\n",
       "      <td>349.76</td>\n",
       "      <td>376.07</td>\n",
       "      <td>98908997</td>\n",
       "    </tr>\n",
       "    <tr>\n",
       "      <th>3</th>\n",
       "      <td>2023-02-28</td>\n",
       "      <td>372.440</td>\n",
       "      <td>384.41</td>\n",
       "      <td>361.73</td>\n",
       "      <td>364.11</td>\n",
       "      <td>70631595</td>\n",
       "    </tr>\n",
       "    <tr>\n",
       "      <th>4</th>\n",
       "      <td>2023-01-31</td>\n",
       "      <td>353.181</td>\n",
       "      <td>375.08</td>\n",
       "      <td>347.19</td>\n",
       "      <td>373.44</td>\n",
       "      <td>76631756</td>\n",
       "    </tr>\n",
       "  </tbody>\n",
       "</table>\n",
       "</div>"
      ],
      "text/plain": [
       "    timestamp     open    high     low   close    volume\n",
       "0  2023-05-05  381.730  383.64  370.92  378.97  20454804\n",
       "1  2023-04-28  375.600  382.12  370.98  382.05  59219145\n",
       "2  2023-03-31  363.340  376.34  349.76  376.07  98908997\n",
       "3  2023-02-28  372.440  384.41  361.73  364.11  70631595\n",
       "4  2023-01-31  353.181  375.08  347.19  373.44  76631756"
      ]
     },
     "execution_count": 4,
     "metadata": {},
     "output_type": "execute_result"
    }
   ],
   "source": [
    "values.head()"
   ]
  },
  {
   "cell_type": "code",
   "execution_count": 5,
   "id": "8b5b8e19",
   "metadata": {},
   "outputs": [
    {
     "data": {
      "text/html": [
       "<div>\n",
       "<style scoped>\n",
       "    .dataframe tbody tr th:only-of-type {\n",
       "        vertical-align: middle;\n",
       "    }\n",
       "\n",
       "    .dataframe tbody tr th {\n",
       "        vertical-align: top;\n",
       "    }\n",
       "\n",
       "    .dataframe thead th {\n",
       "        text-align: right;\n",
       "    }\n",
       "</style>\n",
       "<table border=\"1\" class=\"dataframe\">\n",
       "  <thead>\n",
       "    <tr style=\"text-align: right;\">\n",
       "      <th></th>\n",
       "      <th>timestamp</th>\n",
       "      <th>open</th>\n",
       "      <th>high</th>\n",
       "      <th>low</th>\n",
       "      <th>close</th>\n",
       "      <th>volume</th>\n",
       "    </tr>\n",
       "  </thead>\n",
       "  <tbody>\n",
       "    <tr>\n",
       "      <th>0</th>\n",
       "      <td>2023-05-05</td>\n",
       "      <td>93.30</td>\n",
       "      <td>93.6599</td>\n",
       "      <td>91.350</td>\n",
       "      <td>93.16</td>\n",
       "      <td>5996063</td>\n",
       "    </tr>\n",
       "    <tr>\n",
       "      <th>1</th>\n",
       "      <td>2023-04-28</td>\n",
       "      <td>92.10</td>\n",
       "      <td>93.7806</td>\n",
       "      <td>91.230</td>\n",
       "      <td>93.40</td>\n",
       "      <td>25614082</td>\n",
       "    </tr>\n",
       "    <tr>\n",
       "      <th>2</th>\n",
       "      <td>2023-03-31</td>\n",
       "      <td>90.17</td>\n",
       "      <td>92.2500</td>\n",
       "      <td>86.125</td>\n",
       "      <td>92.09</td>\n",
       "      <td>53242096</td>\n",
       "    </tr>\n",
       "    <tr>\n",
       "      <th>3</th>\n",
       "      <td>2023-02-28</td>\n",
       "      <td>92.68</td>\n",
       "      <td>94.8740</td>\n",
       "      <td>89.190</td>\n",
       "      <td>89.83</td>\n",
       "      <td>39226279</td>\n",
       "    </tr>\n",
       "    <tr>\n",
       "      <th>4</th>\n",
       "      <td>2023-01-31</td>\n",
       "      <td>86.88</td>\n",
       "      <td>93.2400</td>\n",
       "      <td>85.711</td>\n",
       "      <td>92.78</td>\n",
       "      <td>54605961</td>\n",
       "    </tr>\n",
       "  </tbody>\n",
       "</table>\n",
       "</div>"
      ],
      "text/plain": [
       "    timestamp   open     high     low  close    volume\n",
       "0  2023-05-05  93.30  93.6599  91.350  93.16   5996063\n",
       "1  2023-04-28  92.10  93.7806  91.230  93.40  25614082\n",
       "2  2023-03-31  90.17  92.2500  86.125  92.09  53242096\n",
       "3  2023-02-28  92.68  94.8740  89.190  89.83  39226279\n",
       "4  2023-01-31  86.88  93.2400  85.711  92.78  54605961"
      ]
     },
     "execution_count": 5,
     "metadata": {},
     "output_type": "execute_result"
    }
   ],
   "source": [
    "valdats.head()"
   ]
  },
  {
   "cell_type": "code",
   "execution_count": 6,
   "id": "d0d6bb1c",
   "metadata": {},
   "outputs": [],
   "source": [
    "data['timestamp'] = pd.to_datetime(data['timestamp'])"
   ]
  },
  {
   "cell_type": "markdown",
   "id": "14ae8dcf",
   "metadata": {},
   "source": [
    "## Overview of QQQ\n",
    "\n",
    "Qqq is a NASDAQ EFT called Invesco QQQ trust that tracks the performance of 100 large tech companies, Amazon, FB, PayPal, etc"
   ]
  },
  {
   "cell_type": "markdown",
   "id": "1405f6a7",
   "metadata": {},
   "source": [
    "# 3. | Applying Descriptive statistics to QQQ 📊"
   ]
  },
  {
   "cell_type": "code",
   "execution_count": 7,
   "id": "c03d6343",
   "metadata": {},
   "outputs": [
    {
     "name": "stdout",
     "output_type": "stream",
     "text": [
      "The mean for open price is: 108.9312319148936\n",
      "The median for open price is: 66.5\n",
      "The standard deviation for open price is: 94.26558657900159\n",
      "The minimum value for open price is: 20.91\n",
      "The maximum value for open price is: 399.05\n",
      "The 75th quantile for open price is: 148.04\n",
      "The 50th quantile for open price is: 66.5\n",
      "The 25th quantile for open price is: 41.065\n",
      "The interquantile range for open price is: 106.975\n",
      "The Variance for open price is: 8886.000813083245\n",
      "The mode for open price is: 0     38.88\n",
      "1    214.50\n",
      "Name: open, dtype: float64\n",
      "The z-score of the open price is 0      2.265278\n",
      "1      2.229995\n",
      "2      1.958896\n",
      "3      1.971117\n",
      "4      1.697361\n",
      "         ...   \n",
      "277   -0.012022\n",
      "278    1.121899\n",
      "279    0.745696\n",
      "280    0.886825\n",
      "281    0.421567\n",
      "Name: open, Length: 282, dtype: float64\n",
      "The skew for open price is: 1.4337836116604936\n",
      "The Kurtosis for open price is: 1.0741405522360172\n"
     ]
    }
   ],
   "source": [
    "print(\"The mean for open price is:\",data[\"open\"].mean()),\n",
    "print(\"The median for open price is:\",data[\"open\"].median())\n",
    "print(\"The standard deviation for open price is:\",data[\"open\"].std())\n",
    "print(\"The minimum value for open price is:\",data[\"open\"].min())\n",
    "print(\"The maximum value for open price is:\",data[\"open\"].max())\n",
    "print(\"The 75th quantile for open price is:\",data[\"open\"].quantile(0.75))\n",
    "print(\"The 50th quantile for open price is:\",data[\"open\"].quantile(0.50))\n",
    "print(\"The 25th quantile for open price is:\",data[\"open\"].quantile(0.25))\n",
    "print(\"The interquantile range for open price is:\",data[\"open\"].quantile(0.75) - data[\"open\"].quantile(0.25))\n",
    "print(\"The Variance for open price is:\",data[\"open\"].var())\n",
    "print(\"The mode for open price is:\",data[\"open\"].mode())\n",
    "print(\"The z-score of the open price is\", stats.zscore(data[\"open\"]))\n",
    "print(\"The skew for open price is:\",data[\"open\"].skew())\n",
    "print(\"The Kurtosis for open price is:\",data[\"open\"].kurt())"
   ]
  },
  {
   "cell_type": "code",
   "execution_count": 8,
   "id": "eb767b5e",
   "metadata": {},
   "outputs": [
    {
     "name": "stdout",
     "output_type": "stream",
     "text": [
      "The mean for volume is: 1434820990.1843972\n",
      "The median for volume is: 1207131850.0\n",
      "The standard deviation for volume is: 934753167.6223533\n",
      "The minimum value for volume is: 232677800\n",
      "The maximum value for volume is: 7240779800\n",
      "The 75th quantile for volume is: 1894041625.0\n",
      "The 50th quantile for volume is: 1207131850.0\n",
      "The 25th quantile for volume is: 720325876.0\n",
      "The interquantile range for volume is: 1173715749.0\n",
      "The Variance for volume is: 8.737634843800234e+17\n",
      "The mode for volume is: 0       232677800\n",
      "1       259445481\n",
      "2       287584900\n",
      "3       291715900\n",
      "4       307437473\n",
      "          ...    \n",
      "277    3953264300\n",
      "278    4567776300\n",
      "279    4828694600\n",
      "280    5188670400\n",
      "281    7240779800\n",
      "Name: volume, Length: 282, dtype: int64\n",
      "The z-score of the volume is 0     -1.259653\n",
      "1     -0.475510\n",
      "2      0.118470\n",
      "3     -0.364453\n",
      "4     -0.506801\n",
      "         ...   \n",
      "277   -0.810646\n",
      "278   -1.028022\n",
      "279   -1.229496\n",
      "280   -1.225069\n",
      "281   -1.288340\n",
      "Name: volume, Length: 282, dtype: float64\n",
      "The skew for volume is: 1.8017919186043259\n",
      "The Kurtosis for volume is: 6.023119109653159\n"
     ]
    }
   ],
   "source": [
    "print(\"The mean for volume is:\",data[\"volume\"].mean()),\n",
    "print(\"The median for volume is:\",data[\"volume\"].median())\n",
    "print(\"The standard deviation for volume is:\",data[\"volume\"].std())\n",
    "print(\"The minimum value for volume is:\",data[\"volume\"].min())\n",
    "print(\"The maximum value for volume is:\",data[\"volume\"].max())\n",
    "print(\"The 75th quantile for volume is:\",data[\"volume\"].quantile(0.75))\n",
    "print(\"The 50th quantile for volume is:\",data[\"volume\"].quantile(0.50))\n",
    "print(\"The 25th quantile for volume is:\",data[\"volume\"].quantile(0.25))\n",
    "print(\"The interquantile range for volume is:\",data[\"volume\"].quantile(0.75) - data[\"volume\"].quantile(0.25))\n",
    "print(\"The Variance for volume is:\",data[\"volume\"].var())\n",
    "print(\"The mode for volume is:\",data[\"volume\"].mode())\n",
    "print(\"The z-score of the volume is\", stats.zscore(data[\"volume\"]))\n",
    "print(\"The skew for volume is:\",data[\"volume\"].skew())\n",
    "print(\"The Kurtosis for volume is:\",data[\"volume\"].kurt())"
   ]
  },
  {
   "cell_type": "code",
   "execution_count": 9,
   "id": "3ba1c1f0",
   "metadata": {},
   "outputs": [
    {
     "name": "stdout",
     "output_type": "stream",
     "text": [
      "The mean for close price is: 109.2789840425532\n",
      "The median for close price is: 65.46504999999999\n",
      "The standard deviation for close price is: 94.7752990179452\n",
      "The minimum value for close price is: 20.72\n",
      "The maximum value for close price is: 397.85\n",
      "The 75th quantile for close price is: 150.6625\n",
      "The 50th quantile for close price is: 65.46504999999999\n",
      "The 25th quantile for close price is: 40.995000000000005\n",
      "The interquantile range for close price is: 109.66749999999999\n",
      "The Variance for close price is: 8982.357303940924\n",
      "The mode for close price is: 0    35.38\n",
      "1    36.57\n",
      "2    38.87\n",
      "3    38.91\n",
      "Name: close, dtype: float64\n",
      "The z-score of the close price is 0      2.257875\n",
      "1      2.254387\n",
      "2      2.237158\n",
      "3      1.947856\n",
      "4      1.959060\n",
      "         ...   \n",
      "277   -0.153572\n",
      "278    0.002336\n",
      "279    1.101619\n",
      "280    0.741181\n",
      "281    0.777119\n",
      "Name: close, Length: 282, dtype: float64\n",
      "The skew for close price is: 1.4151913177454412\n",
      "The Kurtosis for close price is: 0.9824203327389838\n"
     ]
    }
   ],
   "source": [
    "print(\"The mean for close price is:\",data[\"close\"].mean()),\n",
    "print(\"The median for close price is:\",data[\"close\"].median())\n",
    "print(\"The standard deviation for close price is:\",data[\"close\"].std())\n",
    "print(\"The minimum value for close price is:\",data[\"close\"].min())\n",
    "print(\"The maximum value for close price is:\",data[\"close\"].max())\n",
    "print(\"The 75th quantile for close price is:\",data[\"close\"].quantile(0.75))\n",
    "print(\"The 50th quantile for close price is:\",data[\"close\"].quantile(0.50))\n",
    "print(\"The 25th quantile for close price is:\",data[\"close\"].quantile(0.25))\n",
    "print(\"The interquantile range for close price is:\",data[\"close\"].quantile(0.75) - data[\"close\"].quantile(0.25))\n",
    "print(\"The Variance for close price is:\",data[\"close\"].var())\n",
    "print(\"The mode for close price is:\",data[\"close\"].mode())\n",
    "print(\"The z-score of the close price is\", stats.zscore(data[\"close\"]))\n",
    "print(\"The skew for close price is:\",data[\"close\"].skew())\n",
    "print(\"The Kurtosis for close price is:\",data[\"close\"].kurt())"
   ]
  },
  {
   "cell_type": "code",
   "execution_count": 10,
   "id": "0bed4df4",
   "metadata": {},
   "outputs": [
    {
     "data": {
      "text/html": [
       "<div>\n",
       "<style scoped>\n",
       "    .dataframe tbody tr th:only-of-type {\n",
       "        vertical-align: middle;\n",
       "    }\n",
       "\n",
       "    .dataframe tbody tr th {\n",
       "        vertical-align: top;\n",
       "    }\n",
       "\n",
       "    .dataframe thead th {\n",
       "        text-align: right;\n",
       "    }\n",
       "</style>\n",
       "<table border=\"1\" class=\"dataframe\">\n",
       "  <thead>\n",
       "    <tr style=\"text-align: right;\">\n",
       "      <th></th>\n",
       "      <th>timestamp</th>\n",
       "      <th>open</th>\n",
       "      <th>high</th>\n",
       "      <th>low</th>\n",
       "      <th>close</th>\n",
       "      <th>volume</th>\n",
       "    </tr>\n",
       "  </thead>\n",
       "  <tbody>\n",
       "    <tr>\n",
       "      <th>0</th>\n",
       "      <td>2023-05-05</td>\n",
       "      <td>322.09</td>\n",
       "      <td>323.76</td>\n",
       "      <td>315.115</td>\n",
       "      <td>322.89</td>\n",
       "      <td>259445481</td>\n",
       "    </tr>\n",
       "    <tr>\n",
       "      <th>1</th>\n",
       "      <td>2023-04-28</td>\n",
       "      <td>318.77</td>\n",
       "      <td>322.65</td>\n",
       "      <td>309.890</td>\n",
       "      <td>322.56</td>\n",
       "      <td>991124919</td>\n",
       "    </tr>\n",
       "    <tr>\n",
       "      <th>2</th>\n",
       "      <td>2023-03-31</td>\n",
       "      <td>293.26</td>\n",
       "      <td>321.17</td>\n",
       "      <td>285.190</td>\n",
       "      <td>320.93</td>\n",
       "      <td>1545364607</td>\n",
       "    </tr>\n",
       "    <tr>\n",
       "      <th>3</th>\n",
       "      <td>2023-02-28</td>\n",
       "      <td>294.41</td>\n",
       "      <td>313.68</td>\n",
       "      <td>290.050</td>\n",
       "      <td>293.56</td>\n",
       "      <td>1094751646</td>\n",
       "    </tr>\n",
       "    <tr>\n",
       "      <th>4</th>\n",
       "      <td>2023-01-31</td>\n",
       "      <td>268.65</td>\n",
       "      <td>298.26</td>\n",
       "      <td>260.340</td>\n",
       "      <td>294.62</td>\n",
       "      <td>961927648</td>\n",
       "    </tr>\n",
       "  </tbody>\n",
       "</table>\n",
       "</div>"
      ],
      "text/plain": [
       "   timestamp    open    high      low   close      volume\n",
       "0 2023-05-05  322.09  323.76  315.115  322.89   259445481\n",
       "1 2023-04-28  318.77  322.65  309.890  322.56   991124919\n",
       "2 2023-03-31  293.26  321.17  285.190  320.93  1545364607\n",
       "3 2023-02-28  294.41  313.68  290.050  293.56  1094751646\n",
       "4 2023-01-31  268.65  298.26  260.340  294.62   961927648"
      ]
     },
     "execution_count": 10,
     "metadata": {},
     "output_type": "execute_result"
    }
   ],
   "source": [
    "data.head()"
   ]
  },
  {
   "cell_type": "code",
   "execution_count": 11,
   "id": "9b135c76",
   "metadata": {},
   "outputs": [],
   "source": [
    "# Extracting year and month from the 'Date' column and adding them as separate columns\n",
    "data['Year'] = data['timestamp'].dt.year\n",
    "data['Month'] = data['timestamp'].dt.month\n"
   ]
  },
  {
   "cell_type": "code",
   "execution_count": 12,
   "id": "2118df9e",
   "metadata": {},
   "outputs": [
    {
     "name": "stdout",
     "output_type": "stream",
     "text": [
      "data: 282 rows, 8 columns\n"
     ]
    }
   ],
   "source": [
    "# Printing the shape of the 'data' dataframe\n",
    "print(f'data: {data.shape[0]} rows, {data.shape[1]} columns')"
   ]
  },
  {
   "cell_type": "code",
   "execution_count": 13,
   "id": "6c9fcea6",
   "metadata": {},
   "outputs": [
    {
     "data": {
      "text/html": [
       "<div>\n",
       "<style scoped>\n",
       "    .dataframe tbody tr th:only-of-type {\n",
       "        vertical-align: middle;\n",
       "    }\n",
       "\n",
       "    .dataframe tbody tr th {\n",
       "        vertical-align: top;\n",
       "    }\n",
       "\n",
       "    .dataframe thead th {\n",
       "        text-align: right;\n",
       "    }\n",
       "</style>\n",
       "<table border=\"1\" class=\"dataframe\">\n",
       "  <thead>\n",
       "    <tr style=\"text-align: right;\">\n",
       "      <th></th>\n",
       "      <th>timestamp</th>\n",
       "      <th>open</th>\n",
       "      <th>high</th>\n",
       "      <th>low</th>\n",
       "      <th>close</th>\n",
       "      <th>volume</th>\n",
       "      <th>Year</th>\n",
       "      <th>Month</th>\n",
       "    </tr>\n",
       "  </thead>\n",
       "  <tbody>\n",
       "    <tr>\n",
       "      <th>0</th>\n",
       "      <td>2023-05-05</td>\n",
       "      <td>322.09</td>\n",
       "      <td>323.76</td>\n",
       "      <td>315.115</td>\n",
       "      <td>322.89</td>\n",
       "      <td>259445481</td>\n",
       "      <td>2023</td>\n",
       "      <td>5</td>\n",
       "    </tr>\n",
       "    <tr>\n",
       "      <th>1</th>\n",
       "      <td>2023-04-28</td>\n",
       "      <td>318.77</td>\n",
       "      <td>322.65</td>\n",
       "      <td>309.890</td>\n",
       "      <td>322.56</td>\n",
       "      <td>991124919</td>\n",
       "      <td>2023</td>\n",
       "      <td>4</td>\n",
       "    </tr>\n",
       "    <tr>\n",
       "      <th>2</th>\n",
       "      <td>2023-03-31</td>\n",
       "      <td>293.26</td>\n",
       "      <td>321.17</td>\n",
       "      <td>285.190</td>\n",
       "      <td>320.93</td>\n",
       "      <td>1545364607</td>\n",
       "      <td>2023</td>\n",
       "      <td>3</td>\n",
       "    </tr>\n",
       "    <tr>\n",
       "      <th>3</th>\n",
       "      <td>2023-02-28</td>\n",
       "      <td>294.41</td>\n",
       "      <td>313.68</td>\n",
       "      <td>290.050</td>\n",
       "      <td>293.56</td>\n",
       "      <td>1094751646</td>\n",
       "      <td>2023</td>\n",
       "      <td>2</td>\n",
       "    </tr>\n",
       "    <tr>\n",
       "      <th>4</th>\n",
       "      <td>2023-01-31</td>\n",
       "      <td>268.65</td>\n",
       "      <td>298.26</td>\n",
       "      <td>260.340</td>\n",
       "      <td>294.62</td>\n",
       "      <td>961927648</td>\n",
       "      <td>2023</td>\n",
       "      <td>1</td>\n",
       "    </tr>\n",
       "  </tbody>\n",
       "</table>\n",
       "</div>"
      ],
      "text/plain": [
       "   timestamp    open    high      low   close      volume  Year  Month\n",
       "0 2023-05-05  322.09  323.76  315.115  322.89   259445481  2023      5\n",
       "1 2023-04-28  318.77  322.65  309.890  322.56   991124919  2023      4\n",
       "2 2023-03-31  293.26  321.17  285.190  320.93  1545364607  2023      3\n",
       "3 2023-02-28  294.41  313.68  290.050  293.56  1094751646  2023      2\n",
       "4 2023-01-31  268.65  298.26  260.340  294.62   961927648  2023      1"
      ]
     },
     "execution_count": 13,
     "metadata": {},
     "output_type": "execute_result"
    }
   ],
   "source": [
    "data.head()"
   ]
  },
  {
   "cell_type": "markdown",
   "id": "0b829e04",
   "metadata": {},
   "source": [
    "# 4. GRAPHICALLY REPRESENTING QQQ DATA"
   ]
  },
  {
   "cell_type": "code",
   "execution_count": null,
   "id": "311a3fff",
   "metadata": {},
   "outputs": [],
   "source": [
    "# Line plot\n",
    "fig, ax = plt.subplots(figsize=(15, 6))\n",
    "#sns.lineplot(data['timestamp'], data['open'] )\n",
    "sns.lineplot(data, x = 'timestamp', y = 'close')\n",
    "\n",
    "# Formatting\n",
    "ax.set_title('Close Price', fontsize = 20, loc='center', fontdict=dict(weight='bold'))\n",
    "ax.set_xlabel('Year', fontsize = 16, fontdict=dict(weight='bold'))\n",
    "ax.set_ylabel('Price', fontsize = 16, fontdict=dict(weight='bold'))\n",
    "\n",
    "# Adjusting tick label sizes for better readability\n",
    "plt.tick_params(axis='y', which='major', labelsize=16)\n",
    "plt.tick_params(axis='x', which='major', labelsize=16)"
   ]
  },
  {
   "cell_type": "markdown",
   "id": "776a40ea",
   "metadata": {},
   "source": [
    "# Plotting the Volume"
   ]
  },
  {
   "cell_type": "markdown",
   "id": "73717389",
   "metadata": {},
   "source": [
    "Now that we've done some baseline analysis, let's go ahead and dive a little deeper. We're now going to analyze the risk of the stock. In order to do so we'll need to take a closer look at the daily changes of the stock, and not just its absolute value. Let's go ahead and use pandas to retrieve teh daily returns for the QQQ"
   ]
  },
  {
   "cell_type": "code",
   "execution_count": null,
   "id": "49cc4741",
   "metadata": {},
   "outputs": [],
   "source": []
  },
  {
   "cell_type": "markdown",
   "id": "ccdfe326",
   "metadata": {},
   "source": [
    "The graph exhibits significant noise due to the use of a daily scale. By opting for the mean trading volume per month, rather than the daily trading volume, the resulting visualization is expected to be more comprehensible and visually appealing. "
   ]
  },
  {
   "cell_type": "code",
   "execution_count": null,
   "id": "5d4dffd7",
   "metadata": {},
   "outputs": [],
   "source": [
    "ax = data.boxplot(column = 'close', by = 'Year', figsize = (15,8))\n",
    "\n",
    "\n",
    "ax.set_ylabel('Price')\n",
    "\n",
    "plt.show()"
   ]
  },
  {
   "cell_type": "markdown",
   "id": "29f3d7b4",
   "metadata": {},
   "source": [
    "It is immediately evident that 2021 was a highly successful year for the companies, This constitutes the most significant increase within the past decade."
   ]
  },
  {
   "cell_type": "code",
   "execution_count": null,
   "id": "65b9d48b",
   "metadata": {},
   "outputs": [],
   "source": [
    "# Create a copy of the 'Date' and 'Volume' columns\n",
    "y = data[['timestamp','volume']].copy()\n",
    "\n",
    "# Set the index to 'timestamp' and convert it to datetime format\n",
    "y.set_index('timestamp', inplace=True)\n",
    "y.index = pd.to_datetime(y.index)\n",
    "\n",
    "# Resample the time series to monthly and compute the mean of each month\n",
    "y = y.resample('1M').mean()\n",
    "\n",
    "# Add the 'timestamp' column back to the DataFrame\n",
    "y['timestamp'] = y.index\n",
    "\n",
    "# Plot the monthly volume time series\n",
    "fig, ax = plt.subplots(figsize=(15, 6))\n",
    "#sns.lineplot(y['timestamp'], y['volume'] )\n",
    "sns.lineplot(data, x = 'timestamp', y = 'volume')\n",
    "\n",
    "# Set the title and axes labels\n",
    "ax.set_title('Monthly Volume', fontsize = 20, loc='center', fontdict=dict(weight='bold'))\n",
    "ax.set_xlabel('Year', fontsize = 16, fontdict=dict(weight='bold'))\n",
    "plt.tick_params(axis='y', which='major', labelsize=16)\n",
    "plt.tick_params(axis='x', which='major', labelsize=16)"
   ]
  },
  {
   "cell_type": "code",
   "execution_count": null,
   "id": "a321def5",
   "metadata": {
    "scrolled": false
   },
   "outputs": [],
   "source": []
  },
  {
   "cell_type": "code",
   "execution_count": null,
   "id": "5ea5ffdd",
   "metadata": {},
   "outputs": [],
   "source": [
    "# Aggregating the Time Series to a monthly scaled index\n",
    "y = data[['timestamp','close']].copy()\n",
    "x = data[['timestamp','close']].copy()\n",
    "y.set_index('timestamp', inplace=True)\n",
    "\n",
    "y.index = pd.to_datetime(y.index)\n",
    "y = y.resample('1M').mean()\n",
    "\n",
    "# Compute rolling mean with window size of 3\n",
    "y['prediction'] = y.rolling(window=3).mean() \n",
    "\n",
    "ax.set_title('Close Price Prediction ', fontsize = 20, loc='center', fontdict=dict(weight='bold'))\n",
    "ax.set_xlabel('Year', fontsize = 16, fontdict=dict(weight='bold'))\n",
    "ax.set_ylabel('price', fontsize = 16, fontdict=dict(weight='bold'))\n",
    "\n",
    "# Plot the resulting time series\n",
    "ax = y.plot(figsize=(18,8))\n",
    "\n",
    "ax.set_ylabel('Price', fontsize = 16, fontdict=dict(weight='bold'))"
   ]
  },
  {
   "cell_type": "markdown",
   "id": "e93479e0",
   "metadata": {},
   "source": [
    "Correlation is a statistic that measures the degree to which two variables move in relation to each other which has a value that must fall between -1.0 and +1.0. Correlation measures association, but doesn’t show if x causes y or vice versa — or if the association is caused by a third factor[1].\n",
    "\n",
    "Now what if we wanted to analyze the returns of all the stocks in our list? Let's go ahead and build a DataFrame with all the ['Close'] columns for each of the stocks dataframes."
   ]
  },
  {
   "cell_type": "code",
   "execution_count": null,
   "id": "489e5559",
   "metadata": {
    "scrolled": true
   },
   "outputs": [],
   "source": [
    "plt.figure(figsize=(12, 10))\n",
    "\n",
    "plt.subplot(2, 2, 1)\n",
    "sns.heatmap(data.corr(), annot=True, cmap='summer')\n",
    "plt.title('Correlation of stock return')\n",
    "\n",
    "plt.subplot(2, 2, 2)\n",
    "sns.heatmap(data.corr(), annot=True, cmap='summer')\n",
    "plt.title('Correlation of stock closing price')"
   ]
  },
  {
   "cell_type": "markdown",
   "id": "ad8a3a53",
   "metadata": {
    "scrolled": true
   },
   "source": [
    "Just like we suspected in our PairPlot we see here numerically and visually that the stock return and closing price had the strongest correlation of daily stock return. It's also interesting to see that all the technology comapnies are positively correlated."
   ]
  },
  {
   "cell_type": "code",
   "execution_count": null,
   "id": "04c1b132",
   "metadata": {},
   "outputs": [],
   "source": []
  },
  {
   "cell_type": "code",
   "execution_count": null,
   "id": "fa76fb8d",
   "metadata": {},
   "outputs": [],
   "source": [
    "import sklearn\n",
    "print(sklearn.__version__)\n",
    "\n",
    "#X_train, X_test, y_train, y_test = train_test_split(data[['close']], df[['open']], test_size=.2)"
   ]
  },
  {
   "cell_type": "code",
   "execution_count": null,
   "id": "510cdf7e",
   "metadata": {},
   "outputs": [],
   "source": [
    "from sklearn.model_selection import train_test_split"
   ]
  },
  {
   "cell_type": "code",
   "execution_count": null,
   "id": "20be8b62",
   "metadata": {},
   "outputs": [],
   "source": [
    " #y_train, y_test = train_test_split(data[['close']], test_size=.2)\n",
    "    \n",
    "X_train, X_test, y_train, y_test = train_test_split(data[['close']], data[['close']], test_size=.2)"
   ]
  },
  {
   "cell_type": "code",
   "execution_count": null,
   "id": "5dada4ea",
   "metadata": {},
   "outputs": [],
   "source": [
    "from sklearn.linear_model import LinearRegression"
   ]
  },
  {
   "cell_type": "code",
   "execution_count": null,
   "id": "f1e51e5b",
   "metadata": {},
   "outputs": [],
   "source": [
    "\n",
    "# Create Regression Model\n",
    "model = LinearRegression()\n",
    "# Train the model\n",
    "model.fit(X_train, y_train)\n",
    "# Use model to make predictions\n",
    "y_pred = model.predict(X_test)"
   ]
  },
  {
   "cell_type": "code",
   "execution_count": null,
   "id": "8659a1ed",
   "metadata": {},
   "outputs": [],
   "source": [
    "from sklearn.metrics import mean_squared_error, r2_score, mean_absolute_error\n",
    "# Printout relevant metrics\n",
    "print(\"Model Coefficients:\", model.coef_)\n",
    "print(\"Mean Absolute Error:\", mean_absolute_error(y_test, y_pred))\n",
    "print(\"Coefficient of Determination:\", r2_score(y_test, y_pred))"
   ]
  },
  {
   "cell_type": "markdown",
   "id": "178999f0",
   "metadata": {},
   "source": [
    "So now we can see that if two stocks are perfectly (and positivley) correlated with each other a linear relationship bewteen its daily return values should occur.\n",
    "\n",
    "Seaborn and pandas make it very easy to repeat this comparison analysis for every possible combination of stocks in our technology stock ticker list. We can use sns.pairplot() to automatically create this plot"
   ]
  },
  {
   "cell_type": "code",
   "execution_count": null,
   "id": "5a6f8f72",
   "metadata": {},
   "outputs": [],
   "source": [
    "def correlation_coefficient(x, y):\n",
    "    corr_matrix = np.corrcoef(x, y)\n",
    "    corr_coeff = corr_matrix[0, 1]\n",
    "    return corr_coeff\n",
    "\n",
    "corr = correlation_coefficient(data.Year, data.close,)\n",
    "print(\"Correlation Coefficient:\", corr)\n"
   ]
  },
  {
   "cell_type": "code",
   "execution_count": null,
   "id": "dcbb077c",
   "metadata": {},
   "outputs": [],
   "source": [
    "def plot_linear_regression(x, y):\n",
    "    # Calculate the linear regression parameters\n",
    "    slope, intercept = np.polyfit(x, y, 1)\n",
    "\n",
    "    # Create the scatter plot\n",
    "    plt.scatter(x, y)\n",
    "\n",
    "    # Create the regression line\n",
    "    regression_line = slope * np.array(x) + intercept\n",
    "\n",
    "    # Plot the regression line\n",
    "    plt.plot(x, regression_line, color='red')\n",
    "\n",
    "    # Add labels and title\n",
    "    plt.xlabel('Year')\n",
    "    plt.ylabel('Close Price')\n",
    "    plt.title('Linear Regression for the closing price of QQQ')\n",
    "\n",
    "    # Show the plot\n",
    "    plt.show()\n",
    "    \n",
    "plot_linear_regression(data.Year, data.close)"
   ]
  },
  {
   "cell_type": "code",
   "execution_count": null,
   "id": "3c58b39d",
   "metadata": {},
   "outputs": [],
   "source": [
    "plt.scatter(X_train, y_train,color='g') \n",
    "\n",
    "plt.plot(X_test, y_pred,color='k') \n",
    "\n",
    "\n",
    "\n",
    "plt.show()"
   ]
  },
  {
   "cell_type": "markdown",
   "id": "8284aa74",
   "metadata": {},
   "source": [
    "A scatter plot is a valuable tool for examining the relationship between each observation and its lag. It displays the observation at time t on the x-axis and the lag1 observation (t-1) on the y-axis.\n",
    "\n",
    "If the points cluster along a diagonal line extending from the bottom-left to the top-right of the plot, it indicates a positive correlation relationship.\n",
    "If the points cluster along a diagonal line extending from the top-left to the bottom-right, it signifies a negative correlation relationship.\n",
    "Both types of relationships are useful, as they can be modeled.\n",
    "The closer the points are to the diagonal line, the stronger the relationship; the more spread out the points are from the line, the weaker the relationship.\n",
    "A concentration of points in the center or a dispersion across the plot suggests a weak or non-existent relationship"
   ]
  },
  {
   "cell_type": "markdown",
   "id": "0188edeb",
   "metadata": {},
   "source": [
    "# 5. | Overview of VOO \n",
    "\n",
    "Vanguard S&P 500 ETF which tracks 500 large cap US stocks,over the past 10 years it has had an average annual return of around 15%"
   ]
  },
  {
   "cell_type": "markdown",
   "id": "e8001947",
   "metadata": {},
   "source": [
    "## 5.1 Applying Descriptive statistics to VOO DATA"
   ]
  },
  {
   "cell_type": "code",
   "execution_count": null,
   "id": "0699f904",
   "metadata": {},
   "outputs": [],
   "source": [
    "print(\"The mean for open price is:\",values[\"open\"].mean()),\n",
    "print(\"The median for open price is:\",values[\"open\"].median())\n",
    "print(\"The standard deviation for open price is:\",values[\"open\"].std())\n",
    "print(\"The minimum value for open price is:\",values[\"open\"].min())\n",
    "print(\"The maximum value for open price is:\",values[\"open\"].max())\n",
    "print(\"The 75th quantile for open price is:\",values[\"open\"].quantile(0.75))\n",
    "print(\"The 50th quantile for open price is:\",values[\"open\"].quantile(0.50))\n",
    "print(\"The 25th quantile for open price is:\",values[\"open\"].quantile(0.25))\n",
    "print(\"The interquantile range for open price is:\",values[\"open\"].quantile(0.75) - values[\"open\"].quantile(0.25))\n",
    "print(\"The Variance for open price is:\",values[\"open\"].var())\n",
    "print(\"The mode for open price is:\",values[\"open\"].mode())\n",
    "print(\"The z-score of the open price is\", stats.zscore(values[\"open\"]))\n",
    "print(\"The skew for open price is:\",values[\"open\"].skew())\n",
    "print(\"The Kurtosis for open price is:\",values[\"open\"].kurt())"
   ]
  },
  {
   "cell_type": "code",
   "execution_count": null,
   "id": "d8e8a923",
   "metadata": {},
   "outputs": [],
   "source": [
    "print(\"The mean for volume is:\",values[\"volume\"].mean()),\n",
    "print(\"The median for volume is:\",values[\"volume\"].median())\n",
    "print(\"The standard deviation for volume is:\",values[\"volume\"].std())\n",
    "print(\"The minimum value for volume is:\",values[\"volume\"].min())\n",
    "print(\"The maximum value for volume is:\",values[\"volume\"].max())\n",
    "print(\"The 75th quantile for volume is:\",values[\"volume\"].quantile(0.75))\n",
    "print(\"The 50th quantile for volume is:\",values[\"volume\"].quantile(0.50))\n",
    "print(\"The 25th quantile for volume is:\",values[\"volume\"].quantile(0.25))\n",
    "print(\"The interquantile range for volume is:\",values[\"volume\"].quantile(0.75) - values[\"volume\"].quantile(0.25))\n",
    "print(\"The Variance for volume is:\",values[\"volume\"].var())\n",
    "print(\"The mode for volume is:\",values[\"volume\"].mode())\n",
    "print(\"The z-score of the volume is\", stats.zscore(values[\"volume\"]))\n",
    "print(\"The skew for volume is:\",values[\"volume\"].skew())\n",
    "print(\"The Kurtosis for volume is:\",values[\"volume\"].kurt())"
   ]
  },
  {
   "cell_type": "code",
   "execution_count": null,
   "id": "bed37470",
   "metadata": {},
   "outputs": [],
   "source": [
    "print(\"The mean for close price is:\",values[\"close\"].mean()),\n",
    "print(\"The median for close price is:\",values[\"close\"].median())\n",
    "print(\"The standard deviation for close price is:\",values[\"close\"].std())\n",
    "print(\"The minimum value for close price is:\",values[\"close\"].min())\n",
    "print(\"The maximum value for close price is:\",values[\"close\"].max())\n",
    "print(\"The 75th quantile for close price is:\",values[\"close\"].quantile(0.75))\n",
    "print(\"The 50th quantile for close price is:\",values[\"close\"].quantile(0.50))\n",
    "print(\"The 25th quantile for close price is:\",values[\"close\"].quantile(0.25))\n",
    "print(\"The interquantile range for close price is:\",values[\"close\"].quantile(0.75) - values[\"close\"].quantile(0.25))\n",
    "print(\"The Variance for close price is:\",values[\"close\"].var())\n",
    "print(\"The mode for close price is:\",values[\"close\"].mode())\n",
    "print(\"The z-score of the close price is\", stats.zscore(values[\"close\"]))\n",
    "print(\"The skew for close price is:\",values[\"close\"].skew())\n",
    "print(\"The Kurtosis for close price is:\",values[\"close\"].kurt())"
   ]
  },
  {
   "cell_type": "code",
   "execution_count": null,
   "id": "067f7aa1",
   "metadata": {},
   "outputs": [],
   "source": [
    "# Extracting year and month from the 'Date' column and adding them as separate columns\n",
    "\n",
    "values.head()\n",
    "\n"
   ]
  },
  {
   "cell_type": "code",
   "execution_count": null,
   "id": "3e4258d1",
   "metadata": {},
   "outputs": [],
   "source": [
    "values['timestamp'] = pd.to_datetime(values['timestamp'])"
   ]
  },
  {
   "cell_type": "code",
   "execution_count": null,
   "id": "068be8fd",
   "metadata": {},
   "outputs": [],
   "source": [
    "values['Year'] = values['timestamp'].dt.year\n",
    "values['Month'] = values['timestamp'].dt.month"
   ]
  },
  {
   "cell_type": "markdown",
   "id": "c6dacfc7",
   "metadata": {},
   "source": [
    "# 5.2  GRAPHICALLY REPRESENTING VOO DATA 📊"
   ]
  },
  {
   "cell_type": "code",
   "execution_count": null,
   "id": "de70e97e",
   "metadata": {},
   "outputs": [],
   "source": [
    "# Line plot\n",
    "fig, ax = plt.subplots(figsize=(17, 6))\n",
    "#sns.lineplot(data['timestamp'], data['open'] )\n",
    "sns.lineplot(values, x = 'timestamp', y = 'close')\n",
    "\n",
    "# Formatting\n",
    "ax.set_title('Close Price', fontsize = 20, loc='center', fontdict=dict(weight='bold'))\n",
    "ax.set_xlabel('Year', fontsize = 16, fontdict=dict(weight='bold'))\n",
    "ax.set_ylabel('Price', fontsize = 16, fontdict=dict(weight='bold'))\n",
    "\n",
    "# Adjusting tick label sizes for better readability\n",
    "plt.tick_params(axis='y', which='major', labelsize=16)\n",
    "plt.tick_params(axis='x', which='major', labelsize=16)"
   ]
  },
  {
   "cell_type": "code",
   "execution_count": null,
   "id": "99671847",
   "metadata": {},
   "outputs": [],
   "source": []
  },
  {
   "cell_type": "code",
   "execution_count": null,
   "id": "55c06427",
   "metadata": {},
   "outputs": [],
   "source": [
    "# Create a copy of the 'Date' and 'Volume' columns\n",
    "y = data[['timestamp','volume']].copy()\n",
    "\n",
    "# Set the index to 'timestamp' and convert it to datetime format\n",
    "y.set_index('timestamp', inplace=True)\n",
    "y.index = pd.to_datetime(y.index)\n",
    "\n",
    "# Resample the time series to monthly and compute the mean of each month\n",
    "y = y.resample('1M').mean()\n",
    "\n",
    "# Add the 'timestamp' column back to the DataFrame\n",
    "y['timestamp'] = y.index\n",
    "\n",
    "# Plot the monthly volume time series\n",
    "fig, ax = plt.subplots(figsize=(15, 6))\n",
    "#sns.lineplot(y['timestamp'], y['volume'] )\n",
    "sns.lineplot(values, x = 'timestamp', y = 'volume')\n",
    "\n",
    "# Set the title and axes labels\n",
    "ax.set_title('Monthly Volume', fontsize = 20, loc='center', fontdict=dict(weight='bold'))\n",
    "ax.set_xlabel('Year', fontsize = 16, fontdict=dict(weight='bold'))\n",
    "plt.tick_params(axis='y', which='major', labelsize=16)\n",
    "plt.tick_params(axis='x', which='major', labelsize=16)"
   ]
  },
  {
   "cell_type": "code",
   "execution_count": null,
   "id": "8e32b46a",
   "metadata": {},
   "outputs": [],
   "source": [
    "ax = values.boxplot(column = 'close', by = 'Year', figsize = (15,8))\n",
    "\n",
    "ax.set_ylabel('Price')\n",
    "\n",
    "\n",
    "\n",
    "plt.show()"
   ]
  },
  {
   "cell_type": "code",
   "execution_count": null,
   "id": "9b1657dc",
   "metadata": {},
   "outputs": [],
   "source": [
    "# Aggregating the Time Series to a monthly scaled index\n",
    "y = values[['timestamp','close']].copy()\n",
    "y.set_index('timestamp', inplace=True)\n",
    "y.index = pd.to_datetime(y.index)\n",
    "y = y.resample('1M').mean()\n",
    "\n",
    "\n",
    "# Compute rolling mean with window size of 3\n",
    "y['prediction'] = y.rolling(window=3).mean() \n",
    "\n",
    "# Plot the resulting time series\n",
    "ax = y.plot(figsize=(18,8))\n",
    "ax.set_ylabel('Price', fontsize = 16, fontdict=dict(weight='bold'))"
   ]
  },
  {
   "cell_type": "code",
   "execution_count": null,
   "id": "5a599e85",
   "metadata": {},
   "outputs": [],
   "source": [
    "def correlation_coefficient(x, y):\n",
    "    corr_matrix = np.corrcoef(x, y)\n",
    "    corr_coeff = corr_matrix[0, 1]\n",
    "    return corr_coeff\n",
    "\n",
    "corr = correlation_coefficient(values.Year, values.close,)\n",
    "print(\"Correlation Coefficient:\", corr)"
   ]
  },
  {
   "cell_type": "code",
   "execution_count": null,
   "id": "0466fdba",
   "metadata": {},
   "outputs": [],
   "source": [
    "plt.figure(figsize=(12, 10))\n",
    "\n",
    "plt.subplot(2, 2, 1)\n",
    "sns.heatmap(values.corr(), annot=True, cmap='summer')\n",
    "plt.title('Correlation of stock return')\n",
    "\n",
    "plt.subplot(2, 2, 2)\n",
    "sns.heatmap(data.corr(), annot=True, cmap='summer')\n",
    "plt.title('Correlation of stock closing price')"
   ]
  },
  {
   "cell_type": "code",
   "execution_count": null,
   "id": "9ad83e55",
   "metadata": {},
   "outputs": [],
   "source": []
  },
  {
   "cell_type": "code",
   "execution_count": null,
   "id": "3655ec10",
   "metadata": {},
   "outputs": [],
   "source": [
    "X_train, X_test, y_train, y_test = train_test_split(values[['close']], values[['close']], test_size=.2)"
   ]
  },
  {
   "cell_type": "code",
   "execution_count": null,
   "id": "11e92ad1",
   "metadata": {},
   "outputs": [],
   "source": [
    "# Create Regression Model\n",
    "model = LinearRegression()\n",
    "# Train the model\n",
    "model.fit(X_train, y_train)\n",
    "# Use model to make predictions\n",
    "y_pred = model.predict(X_test)"
   ]
  },
  {
   "cell_type": "code",
   "execution_count": null,
   "id": "ad47dcff",
   "metadata": {},
   "outputs": [],
   "source": [
    "from sklearn.metrics import mean_squared_error, r2_score, mean_absolute_error\n",
    "# Printout relevant metrics\n",
    "print(\"Model Coefficients:\", model.coef_)\n",
    "print(\"Mean Absolute Error:\", mean_absolute_error(y_test, y_pred))\n",
    "print(\"Coefficient of Determination:\", r2_score(y_test, y_pred))"
   ]
  },
  {
   "cell_type": "code",
   "execution_count": null,
   "id": "f92ad073",
   "metadata": {},
   "outputs": [],
   "source": [
    "def plot_linear_regression(x, y):\n",
    "    # Calculate the linear regression parameters\n",
    "    slope, intercept = np.polyfit(x, y, 1)\n",
    "\n",
    "    # Create the scatter plot\n",
    "    plt.scatter(x, y)\n",
    "\n",
    "    # Create the regression line\n",
    "    regression_line = slope * np.array(x) + intercept\n",
    "\n",
    "    # Plot the regression line\n",
    "    plt.plot(x, regression_line, color='red')\n",
    "\n",
    "    # Add labels and title\n",
    "    plt.xlabel('Year')\n",
    "    plt.ylabel('Close Price')\n",
    "    plt.title('Linear Regression for the closing price of VT')\n",
    "\n",
    "    # Show the plot\n",
    "    plt.show()\n",
    "    \n",
    "plot_linear_regression(values.Year, values.close)"
   ]
  },
  {
   "cell_type": "code",
   "execution_count": null,
   "id": "933059c7",
   "metadata": {},
   "outputs": [],
   "source": [
    "plt.scatter(X_train, y_train,color='g') \n",
    "\n",
    "plt.plot(X_test, y_pred,color='k') \n",
    "\n",
    "\n",
    "\n",
    "plt.show()"
   ]
  },
  {
   "cell_type": "markdown",
   "id": "b342429f",
   "metadata": {},
   "source": [
    "# 6. | Overview of VT Data\n",
    "\n",
    "Vanguard Total world stock ETF which provides exposure to stocks of companies located in developed and emerging markets around the world, average annual return of around 9 % over the past 10 years"
   ]
  },
  {
   "cell_type": "markdown",
   "id": "17339cba",
   "metadata": {},
   "source": [
    "# 6.1 Applying Descriptive statistics to VT DATA\n"
   ]
  },
  {
   "cell_type": "code",
   "execution_count": null,
   "id": "c8fac05c",
   "metadata": {},
   "outputs": [],
   "source": [
    "valdats.describe()"
   ]
  },
  {
   "cell_type": "code",
   "execution_count": null,
   "id": "4549a43c",
   "metadata": {},
   "outputs": [],
   "source": [
    "valdats['timestamp'] = pd.to_datetime(valdats['timestamp'])"
   ]
  },
  {
   "cell_type": "code",
   "execution_count": null,
   "id": "5e3f9e2d",
   "metadata": {},
   "outputs": [],
   "source": [
    "valdats['Year'] = valdats['timestamp'].dt.year\n",
    "valdats['Month'] = valdats['timestamp'].dt.month"
   ]
  },
  {
   "cell_type": "markdown",
   "id": "c28693b0",
   "metadata": {},
   "source": [
    "# 6.2 GRAPHICALLY REPRESENTING VT Data"
   ]
  },
  {
   "cell_type": "code",
   "execution_count": null,
   "id": "aaf91da1",
   "metadata": {},
   "outputs": [],
   "source": [
    "# Line plot\n",
    "fig, ax = plt.subplots(figsize=(17, 6))\n",
    "#sns.lineplot(data['timestamp'], data['open'] )\n",
    "sns.lineplot(valdats, x = 'timestamp', y = 'close')\n",
    "\n",
    "# Formatting\n",
    "ax.set_title('Close Price', fontsize = 20, loc='center', fontdict=dict(weight='bold'))\n",
    "ax.set_xlabel('Year', fontsize = 16, fontdict=dict(weight='bold'))\n",
    "ax.set_ylabel('Price', fontsize = 16, fontdict=dict(weight='bold'))\n",
    "\n",
    "# Adjusting tick label sizes for better readability\n",
    "plt.tick_params(axis='y', which='major', labelsize=16)\n",
    "plt.tick_params(axis='x', which='major', labelsize=16)"
   ]
  },
  {
   "cell_type": "code",
   "execution_count": null,
   "id": "b64988d5",
   "metadata": {},
   "outputs": [],
   "source": []
  },
  {
   "cell_type": "code",
   "execution_count": null,
   "id": "839dfe6b",
   "metadata": {},
   "outputs": [],
   "source": [
    "# Create a copy of the 'Date' and 'Volume' columns\n",
    "y = valdats[['timestamp','volume']].copy()\n",
    "\n",
    "# Set the index to 'timestamp' and convert it to datetime format\n",
    "y.set_index('timestamp', inplace=True)\n",
    "y.index = pd.to_datetime(y.index)\n",
    "\n",
    "# Resample the time series to monthly and compute the mean of each month\n",
    "y = y.resample('1M').mean()\n",
    "\n",
    "# Add the 'timestamp' column back to the DataFrame\n",
    "y['timestamp'] = y.index\n",
    "\n",
    "# Plot the monthly volume time series\n",
    "fig, ax = plt.subplots(figsize=(15, 6))\n",
    "#sns.lineplot(y['timestamp'], y['volume'] )\n",
    "sns.lineplot(values, x = 'timestamp', y = 'volume')\n",
    "\n",
    "# Set the title and axes labels\n",
    "ax.set_title('Monthly Volume', fontsize = 20, loc='center', fontdict=dict(weight='bold'))\n",
    "ax.set_xlabel('Year', fontsize = 16, fontdict=dict(weight='bold'))\n",
    "plt.tick_params(axis='y', which='major', labelsize=16)\n",
    "plt.tick_params(axis='x', which='major', labelsize=16)"
   ]
  },
  {
   "cell_type": "code",
   "execution_count": null,
   "id": "fab89845",
   "metadata": {},
   "outputs": [],
   "source": [
    "ax = valdats.boxplot(column = 'close', by = 'Year', figsize = (15,8))\n",
    "\n",
    "ax.set_ylabel('Price')\n",
    "\n",
    "\n",
    "plt.show()"
   ]
  },
  {
   "cell_type": "code",
   "execution_count": null,
   "id": "05d78f84",
   "metadata": {},
   "outputs": [],
   "source": [
    "# Aggregating the Time Series to a monthly scaled index\n",
    "y = valdats[['timestamp','close']].copy()\n",
    "y.set_index('timestamp', inplace=True)\n",
    "y.index = pd.to_datetime(y.index)\n",
    "y = y.resample('1M').mean()\n",
    "\n",
    "\n",
    "# Compute rolling mean with window size of 3\n",
    "y['prediction'] = y.rolling(window=3).mean() \n",
    "\n",
    "# Plot the resulting time series\n",
    "ax = y.plot(figsize=(18,8))\n",
    "\n",
    " \n",
    "ax.set_ylabel('Price', fontsize = 16, fontdict=dict(weight='bold'))\n"
   ]
  },
  {
   "cell_type": "code",
   "execution_count": null,
   "id": "de253fc2",
   "metadata": {},
   "outputs": [],
   "source": [
    "plt.figure(figsize=(12, 10))\n",
    "\n",
    "plt.subplot(2, 2, 1)\n",
    "sns.heatmap(valdats.corr(), annot=True, cmap='summer')\n",
    "plt.title('Correlation of stock return')\n",
    "\n",
    "plt.subplot(2, 2, 2)\n",
    "sns.heatmap(data.corr(), annot=True, cmap='summer')\n",
    "plt.title('Correlation of stock closing price')"
   ]
  },
  {
   "cell_type": "code",
   "execution_count": null,
   "id": "adc53202",
   "metadata": {},
   "outputs": [],
   "source": [
    "def correlation_coefficient(x, y):\n",
    "    corr_matrix = np.corrcoef(x, y)\n",
    "    corr_coeff = corr_matrix[0, 1]\n",
    "    return corr_coeff\n",
    "\n",
    "corr = correlation_coefficient(valdats.Year, valdats.close,)\n",
    "print(\"Correlation Coefficient:\", corr)"
   ]
  },
  {
   "cell_type": "code",
   "execution_count": null,
   "id": "d58e2b90",
   "metadata": {},
   "outputs": [],
   "source": [
    "def plot_linear_regression(x, y):\n",
    "    # Calculate the linear regression parameters\n",
    "    slope, intercept = np.polyfit(x, y, 1)\n",
    "\n",
    "    # Create the scatter plot\n",
    "    plt.scatter(x, y)\n",
    "\n",
    "    # Create the regression line\n",
    "    regression_line = slope * np.array(x) + intercept\n",
    "\n",
    "    # Plot the regression line\n",
    "    plt.plot(x, regression_line, color='red')\n",
    "\n",
    "    # Add labels and title\n",
    "    plt.xlabel('Year')\n",
    "    plt.ylabel('Close Price')\n",
    "    plt.title('Linear Regression for the closing price of VT')\n",
    "\n",
    "    # Show the plot\n",
    "    plt.show()\n",
    "    \n",
    "plot_linear_regression(valdats.Year, valdats.close)"
   ]
  },
  {
   "cell_type": "code",
   "execution_count": null,
   "id": "65d1eed6",
   "metadata": {},
   "outputs": [],
   "source": []
  },
  {
   "cell_type": "code",
   "execution_count": null,
   "id": "880c7162",
   "metadata": {},
   "outputs": [],
   "source": []
  },
  {
   "cell_type": "code",
   "execution_count": null,
   "id": "56ff2a13",
   "metadata": {},
   "outputs": [],
   "source": []
  },
  {
   "cell_type": "code",
   "execution_count": null,
   "id": "c50cb780",
   "metadata": {},
   "outputs": [],
   "source": []
  }
 ],
 "metadata": {
  "kernelspec": {
   "display_name": "Python 3 (ipykernel)",
   "language": "python",
   "name": "python3"
  },
  "language_info": {
   "codemirror_mode": {
    "name": "ipython",
    "version": 3
   },
   "file_extension": ".py",
   "mimetype": "text/x-python",
   "name": "python",
   "nbconvert_exporter": "python",
   "pygments_lexer": "ipython3",
   "version": "3.10.9"
  }
 },
 "nbformat": 4,
 "nbformat_minor": 5
}
